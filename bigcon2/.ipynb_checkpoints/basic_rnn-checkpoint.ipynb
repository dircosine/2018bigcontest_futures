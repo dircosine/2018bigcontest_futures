{
 "cells": [
  {
   "cell_type": "code",
   "execution_count": 61,
   "metadata": {},
   "outputs": [],
   "source": [
    "import tensorflow as tf\n",
    "import numpy as np\n",
    "import pandas as pd\n",
    "import matplotlib.pyplot as plt\n",
    "import sqlite3\n",
    "import pickle\n",
    "import tensorflow.contrib.rnn as rnn\n",
    "from sklearn.metrics import mean_squared_error\n",
    "import math"
   ]
  },
  {
   "cell_type": "code",
   "execution_count": 62,
   "metadata": {},
   "outputs": [
    {
     "data": {
      "text/plain": [
       "'1.8.0'"
      ]
     },
     "execution_count": 62,
     "metadata": {},
     "output_type": "execute_result"
    }
   ],
   "source": [
    "tf.__version__"
   ]
  },
  {
   "cell_type": "code",
   "execution_count": 63,
   "metadata": {},
   "outputs": [],
   "source": [
    "# tf.set_random_seed(7)"
   ]
  },
  {
   "cell_type": "code",
   "execution_count": 64,
   "metadata": {},
   "outputs": [],
   "source": [
    "TIME_STEP = 23\n",
    "LSTM_SIZE = 40\n",
    "N_INPUTS = 3\n",
    "N_OUTPUTS = 1\n",
    "BATCH_SIZE = 64\n",
    "learning_rate = 0.001"
   ]
  },
  {
   "cell_type": "code",
   "execution_count": 65,
   "metadata": {},
   "outputs": [
    {
     "data": {
      "text/plain": [
       "((1000, 23, 3), (1000, 1))"
      ]
     },
     "execution_count": 65,
     "metadata": {},
     "output_type": "execute_result"
    }
   ],
   "source": [
    "# input_batch = np.load('./npy/basic_rnn/dataX_2.npy')\n",
    "# target_batch = np.load('./npy/basic_rnn/dataY_2.npy')\n",
    "\n",
    "\n",
    "input_batch = np.load('./npy/basic_rnn/dataX_23.npy')\n",
    "target_batch = np.load('./npy/basic_rnn/dataY_23.npy')\n",
    "\n",
    "\n",
    "# input_batch = np.load('./npy/basic_rnn/shuffled_dataX.npy')\n",
    "# target_batch = np.load('./npy/basic_rnn/shuffled_dataY.npy')\n",
    "\n",
    "\n",
    "\n",
    "# real_target_2 = np.load('./npy/real_target_2.npy')\n",
    "real_target_23 = np.load('./npy/real_target_23.npy')\n",
    "\n",
    "input_batch.shape, target_batch.shape"
   ]
  },
  {
   "cell_type": "code",
   "execution_count": 66,
   "metadata": {},
   "outputs": [
    {
     "data": {
      "text/plain": [
       "(896, 104)"
      ]
     },
     "execution_count": 66,
     "metadata": {},
     "output_type": "execute_result"
    }
   ],
   "source": [
    "# train/test split\\\n",
    "train_size = (len(input_batch)//BATCH_SIZE - 1) * BATCH_SIZE\n",
    "\n",
    "trainX = np.array(input_batch[:train_size]) \n",
    "testX = np.array(input_batch[train_size:])\n",
    "trainY = np.array(target_batch[:train_size]) \n",
    "testY =  np.array(target_batch[train_size:])\n",
    "\n",
    "len(trainX), len(testY)"
   ]
  },
  {
   "cell_type": "code",
   "execution_count": 67,
   "metadata": {},
   "outputs": [],
   "source": [
    "tf.reset_default_graph() \n",
    "\n",
    "X = tf.placeholder(tf.float32, [None, TIME_STEP, N_INPUTS])\n",
    "Y = tf.placeholder(tf.float32, [None, 1])\n",
    "\n",
    "lstm_cell = rnn.BasicLSTMCell(LSTM_SIZE)\n",
    "# lstm_cell = rnn.BasicLSTMCell(LSTM_SIZE, forget_bias=1.0)\n",
    "outputs, _ = tf.nn.dynamic_rnn(lstm_cell, X, dtype=tf.float32)\n",
    "\n",
    "outputs = outputs[:, -1]\n",
    "\n",
    "weight = tf.Variable(np.random.rand(LSTM_SIZE, N_OUTPUTS), dtype=tf.float32)\n",
    "bias = tf.Variable(np.zeros((1,N_OUTPUTS)), dtype=tf.float32)\n",
    "Y_pred = tf.matmul(outputs, weight) + bias\n",
    "\n",
    "loss = tf.losses.mean_squared_error(Y, Y_pred)\n",
    "\n",
    "optimizer = tf.train.AdamOptimizer(learning_rate)\n",
    "train = optimizer.minimize(loss)\n",
    "\n",
    "targets = tf.placeholder(tf.float32, [None, 1])\n",
    "predictions = tf.placeholder(tf.float32, [None, 1])\n",
    "rmse = tf.sqrt(tf.reduce_mean(tf.square(targets - predictions)))"
   ]
  },
  {
   "cell_type": "code",
   "execution_count": 68,
   "metadata": {},
   "outputs": [],
   "source": [
    "saver = tf.train.Saver()\n",
    "init_op = tf.global_variables_initializer()"
   ]
  },
  {
   "cell_type": "code",
   "execution_count": null,
   "metadata": {
    "scrolled": true
   },
   "outputs": [
    {
     "name": "stdout",
     "output_type": "stream",
     "text": [
      "[0] RMSE: 0.20176397264003754, loss: 0.03822951391339302\n",
      "[1] RMSE: 0.10020740330219269, loss: 0.013367170467972755\n",
      "[2] RMSE: 0.060169517993927, loss: 0.005785295274108648\n",
      "[3] RMSE: 0.0578291118144989, loss: 0.005262225400656462\n",
      "[4] RMSE: 0.05656944587826729, loss: 0.005488462746143341\n",
      "[5] RMSE: 0.0542980320751667, loss: 0.004904480185359716\n",
      "[6] RMSE: 0.053108736872673035, loss: 0.0048723346553742886\n",
      "[7] RMSE: 0.052023474127054214, loss: 0.00472046434879303\n",
      "[8] RMSE: 0.051211077719926834, loss: 0.004652022384107113\n",
      "[9] RMSE: 0.05059858039021492, loss: 0.004603172652423382\n",
      "[10] RMSE: 0.050032828003168106, loss: 0.004547647200524807\n",
      "[11] RMSE: 0.049557749181985855, loss: 0.004505297169089317\n",
      "[12] RMSE: 0.049090445041656494, loss: 0.004456432536244392\n",
      "[13] RMSE: 0.048634305596351624, loss: 0.004407973028719425\n",
      "[14] RMSE: 0.048180386424064636, loss: 0.004359074402600527\n",
      "[15] RMSE: 0.04771973565220833, loss: 0.004308931529521942\n",
      "[16] RMSE: 0.04725251346826553, loss: 0.004258368164300919\n",
      "[17] RMSE: 0.04677751287817955, loss: 0.00420728512108326\n",
      "[18] RMSE: 0.04629374295473099, loss: 0.004155514296144247\n",
      "[19] RMSE: 0.04580112174153328, loss: 0.004103044047951698\n",
      "[20] RMSE: 0.0452999547123909, loss: 0.004049848765134811\n",
      "[21] RMSE: 0.04479129984974861, loss: 0.003995938692241907\n",
      "[22] RMSE: 0.04427754506468773, loss: 0.0039414046332240105\n",
      "[23] RMSE: 0.04376319423317909, loss: 0.003886459395289421\n",
      "[24] RMSE: 0.043255869299173355, loss: 0.0038314713165163994\n",
      "[25] RMSE: 0.042767707258462906, loss: 0.0037770417984575033\n",
      "[26] RMSE: 0.04231695085763931, loss: 0.0037241464015096426\n",
      "[27] RMSE: 0.04192888364195824, loss: 0.003674333682283759\n",
      "[28] RMSE: 0.04163376986980438, loss: 0.0036299603525549173\n",
      "[29] RMSE: 0.04145723581314087, loss: 0.003594187553972006\n",
      "[30] RMSE: 0.04139792174100876, loss: 0.0035702225286513567\n",
      "[31] RMSE: 0.041394490748643875, loss: 0.0035590154584497213\n",
      "[32] RMSE: 0.041302308440208435, loss: 0.003555332077667117\n",
      "[33] RMSE: 0.040924977511167526, loss: 0.0035443713422864676\n",
      "[34] RMSE: 0.04014929383993149, loss: 0.0035052418243139982\n",
      "[35] RMSE: 0.03915691003203392, loss: 0.0034291690681129694\n",
      "[36] RMSE: 0.03840859606862068, loss: 0.003342102514579892\n",
      "[37] RMSE: 0.038092244416475296, loss: 0.0032845078967511654\n",
      "[38] RMSE: 0.037902314215898514, loss: 0.0032580047845840454\n",
      "[39] RMSE: 0.03767220303416252, loss: 0.0032402691431343555\n",
      "[40] RMSE: 0.03746464103460312, loss: 0.003222303930670023\n",
      "[41] RMSE: 0.03728869557380676, loss: 0.003202257677912712\n",
      "[42] RMSE: 0.0371280200779438, loss: 0.003181218169629574\n",
      "[43] RMSE: 0.03697921335697174, loss: 0.003160401713103056\n",
      "[44] RMSE: 0.036840248852968216, loss: 0.0031392795499414206\n",
      "[45] RMSE: 0.036707859486341476, loss: 0.003117587184533477\n",
      "[46] RMSE: 0.03658106178045273, loss: 0.003095647320151329\n",
      "[47] RMSE: 0.036459799855947495, loss: 0.0030735102482140064\n",
      "[48] RMSE: 0.03634345531463623, loss: 0.0030511601362377405\n"
     ]
    }
   ],
   "source": [
    "epoch = 1000\n",
    "iterations = len(trainX)//BATCH_SIZE\n",
    "\n",
    "train_loss = []\n",
    "val_rmse = []\n",
    "with tf.Session() as sess:\n",
    "    sess.run(init_op)    \n",
    "\n",
    "#     saver.restore(sess, \"./tmp/basic_rnn/model1_1000.ckpt\")\n",
    "    \n",
    "    for epoch_ in range(epoch):\n",
    "        for i in range(iterations):\n",
    "            start = i*BATCH_SIZE\n",
    "            end = start+BATCH_SIZE\n",
    "            _, step_loss = sess.run([train, loss], feed_dict={X: trainX[start:end], Y: trainY[start:end]})\n",
    "\n",
    "\n",
    "        test_predict = sess.run(Y_pred, feed_dict={X: testX})\n",
    "        rmse_val = sess.run(rmse, feed_dict={targets: testY, predictions: test_predict})\n",
    "        \n",
    "        print(\"[{}] RMSE: {}, loss: {}\".format(epoch_, rmse_val, step_loss))\n",
    "\n",
    "        train_loss.append(step_loss)\n",
    "        val_rmse.append(rmse_val)\n",
    "\n",
    "    \n",
    "    test_predict = sess.run(Y_pred, feed_dict={X: testX})\n",
    "    \n",
    "    test_predict_23 = sess.run(Y_pred, feed_dict={X: real_target_23})\n",
    "\n",
    "        \n",
    "    save_path = saver.save(sess, \"./tmp/basic_rnn/model1_1000.ckpt\")\n",
    "    print(\"Model saved in path: %s\" % save_path)"
   ]
  },
  {
   "cell_type": "code",
   "execution_count": null,
   "metadata": {},
   "outputs": [],
   "source": [
    "%matplotlib inline\n",
    "import matplotlib.pyplot as plt\n",
    "plt.plot(train_loss)\n",
    "plt.plot(val_rmse)"
   ]
  },
  {
   "cell_type": "code",
   "execution_count": 59,
   "metadata": {},
   "outputs": [
    {
     "data": {
      "image/png": "[encoded data removed]",
      "text/plain": [
       "<Figure size 432x288 with 1 Axes>"
      ]
     },
     "metadata": {},
     "output_type": "display_data"
    }
   ],
   "source": [
    "# Plot predictions\n",
    "plt.plot(testY, label='testY')\n",
    "plt.plot(test_predict, label='predict')\n",
    "plt.legend()\n",
    "plt.savefig('./plot/rnn_result')\n",
    "plt.show()"
   ]
  },
  {
   "cell_type": "code",
   "execution_count": 60,
   "metadata": {},
   "outputs": [
    {
     "name": "stderr",
     "output_type": "stream",
     "text": [
      "C:\\Users\\Administrator\\PycharmProjects\\tensorflow\\env\\lib\\site-packages\\sklearn\\base.py:311: UserWarning: Trying to unpickle estimator MinMaxScaler from version 0.19.1 when using version 0.19.2. This might lead to breaking code or invalid results. Use at your own risk.\n",
      "  UserWarning)\n"
     ]
    },
    {
     "ename": "NameError",
     "evalue": "name 'test_predict_23' is not defined",
     "output_type": "error",
     "traceback": [
      "\u001b[1;31m---------------------------------------------------------------------------\u001b[0m",
      "\u001b[1;31mNameError\u001b[0m                                 Traceback (most recent call last)",
      "\u001b[1;32m<ipython-input-60-3bdc21f5edd8>\u001b[0m in \u001b[0;36m<module>\u001b[1;34m()\u001b[0m\n\u001b[0;32m      1\u001b[0m \u001b[0mscaler\u001b[0m \u001b[1;33m=\u001b[0m \u001b[0mpickle\u001b[0m\u001b[1;33m.\u001b[0m\u001b[0mload\u001b[0m\u001b[1;33m(\u001b[0m\u001b[0mopen\u001b[0m\u001b[1;33m(\u001b[0m\u001b[1;34m'./scaler/scalerY_23.sav'\u001b[0m\u001b[1;33m,\u001b[0m \u001b[1;34m'rb'\u001b[0m\u001b[1;33m)\u001b[0m\u001b[1;33m)\u001b[0m\u001b[1;33m\u001b[0m\u001b[0m\n\u001b[1;32m----> 2\u001b[1;33m \u001b[0minv_pred_23\u001b[0m \u001b[1;33m=\u001b[0m \u001b[0mscaler\u001b[0m\u001b[1;33m.\u001b[0m\u001b[0minverse_transform\u001b[0m\u001b[1;33m(\u001b[0m\u001b[0mtest_predict_23\u001b[0m\u001b[1;33m)\u001b[0m\u001b[1;33m\u001b[0m\u001b[0m\n\u001b[0m\u001b[0;32m      3\u001b[0m \u001b[0minv_pred_23\u001b[0m\u001b[1;33m\u001b[0m\u001b[0m\n",
      "\u001b[1;31mNameError\u001b[0m: name 'test_predict_23' is not defined"
     ]
    }
   ],
   "source": [
    "scaler = pickle.load(open('./scaler/scalerY_23.sav', 'rb'))\n",
    "inv_pred_23 = scaler.inverse_transform(test_predict_23)\n",
    "inv_pred_23"
   ]
  },
  {
   "cell_type": "code",
   "execution_count": null,
   "metadata": {},
   "outputs": [],
   "source": []
  }
 ],
 "metadata": {
  "kernelspec": {
   "display_name": "tensorflow",
   "language": "python",
   "name": "env"
  },
  "language_info": {
   "codemirror_mode": {
    "name": "ipython",
    "version": 3
   },
   "file_extension": ".py",
   "mimetype": "text/x-python",
   "name": "python",
   "nbconvert_exporter": "python",
   "pygments_lexer": "ipython3",
   "version": "3.5.4"
  }
 },
 "nbformat": 4,
 "nbformat_minor": 2
}
